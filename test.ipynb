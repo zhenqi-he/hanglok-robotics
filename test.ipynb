{
 "cells": [
  {
   "cell_type": "code",
   "execution_count": 1,
   "id": "d9b5ae53",
   "metadata": {},
   "outputs": [
    {
     "name": "stdout",
     "output_type": "stream",
     "text": [
      "finish ini robot\n"
     ]
    },
    {
     "data": {
      "text/plain": [
       "[-108.036001182568,\n",
       " -578.0919506765616,\n",
       " 468.4129896018282,\n",
       " -1.7541134871192594,\n",
       " 0.7524987583113012,\n",
       " 2.944242418136163]"
      ]
     },
     "execution_count": 1,
     "metadata": {},
     "output_type": "execute_result"
    }
   ],
   "source": [
    "import jkrc\n",
    "from HanglokJKRC import HagJkrc\n",
    "\n",
    "import logging\n",
    "\n",
    "\n",
    "# Create a logger instance\n",
    "logger = logging.getLogger(\"my_logger\")\n",
    "logger.setLevel(logging.DEBUG)\n",
    "\n",
    "\n",
    "# 200 is left and 100 is right\n",
    "arm  = HagJkrc(logger, \"192.168.15.200\")\n",
    "arm.init_robot()\n",
    "arm.read_actual_tcp_point_all()"
   ]
  },
  {
   "cell_type": "code",
   "execution_count": 10,
   "id": "2233a1cd",
   "metadata": {},
   "outputs": [],
   "source": [
    "start_pnt = [-108.036001182568,\n",
    " -578.0919506765616,\n",
    " 468.4129896018282,\n",
    " -1.7541134871192594,\n",
    " 0.7524987583113012,\n",
    " 2.944242418136163]"
   ]
  },
  {
   "cell_type": "code",
   "execution_count": 11,
   "id": "4d26395f",
   "metadata": {
    "scrolled": true
   },
   "outputs": [
    {
     "name": "stdout",
     "output_type": "stream",
     "text": [
      "[-58.03600118256862, -528.0919506765609, 468.4129896018288, -1.7541134871192592, 0.7524987583113011, 2.944242418136163]\n",
      "[-58.03600118256862, -478.09195067656094, 468.4129896018288, -1.7541134871192592, 0.7524987583113011, 2.944242418136163]\n",
      "[-108.036001182568, -578.0919506765616, 468.4129896018282, -1.7541134871192594, 0.7524987583113012, 2.944242418136163]\n",
      "jaka is moving\n",
      "jaka is moving\n",
      "jaka is moving\n",
      "jaka is moving\n",
      "jaka is moving\n",
      "jaka is moving\n",
      "jaka is moving\n",
      "jaka is moving\n",
      "jaka move to point successfully\n"
     ]
    },
    {
     "data": {
      "text/plain": [
       "(0,)"
      ]
     },
     "execution_count": 11,
     "metadata": {},
     "output_type": "execute_result"
    }
   ],
   "source": [
    "point = arm.read_actual_tcp_point_all()\n",
    "print(point)\n",
    "# 0 if for moving paralle to the windows, 1 is for moving vertical to the windows\n",
    "point[1] += 50\n",
    "print(point)\n",
    "arm.move_to_point(start_pnt, 10)\n"
   ]
  },
  {
   "cell_type": "code",
   "execution_count": 4,
   "id": "ce990e6c",
   "metadata": {},
   "outputs": [],
   "source": [
    "arm.set_digital(1) # 200 robot gripper, close/open"
   ]
  },
  {
   "cell_type": "code",
   "execution_count": null,
   "id": "655d20c8",
   "metadata": {},
   "outputs": [],
   "source": []
  },
  {
   "cell_type": "code",
   "execution_count": 14,
   "id": "6e32651f",
   "metadata": {},
   "outputs": [
    {
     "data": {
      "text/plain": [
       "1"
      ]
     },
     "execution_count": 14,
     "metadata": {},
     "output_type": "execute_result"
    }
   ],
   "source": [
    "1%2"
   ]
  },
  {
   "cell_type": "code",
   "execution_count": null,
   "id": "faba9bc0",
   "metadata": {},
   "outputs": [],
   "source": [
    "arm.set_analog_output(0, 1)"
   ]
  },
  {
   "cell_type": "code",
   "execution_count": null,
   "id": "f7990ab2",
   "metadata": {},
   "outputs": [],
   "source": [
    "import time\n",
    "\n",
    "gripper_port = 0\n",
    "angle_port = 8\n",
    "speed_port = 12\n",
    "for j in [2,15,20]:\n",
    "    print(j)\n",
    "    arm.set_set_analog_output(0, j)\n",
    "    time.sleep(1)\n",
    "\n"
   ]
  },
  {
   "cell_type": "code",
   "execution_count": null,
   "id": "a9c87ac7",
   "metadata": {},
   "outputs": [],
   "source": [
    "angle_port = 8\n",
    "\n",
    "arm.set_set_analog_output(angle_port, )\n",
    "for i in [100,200,300]:\n",
    "    arm.set_set_analog_output(angle_port, i)\n",
    "    time.sleep(1)"
   ]
  },
  {
   "cell_type": "code",
   "execution_count": 5,
   "id": "59d28bfc",
   "metadata": {},
   "outputs": [],
   "source": [
    "import pyrealsense2 as rs"
   ]
  },
  {
   "cell_type": "code",
   "execution_count": 1,
   "id": "434ba0ab",
   "metadata": {},
   "outputs": [
    {
     "name": "stdout",
     "output_type": "stream",
     "text": [
      "<pyrealsense2.pyrealsense2.config object at 0x00000261E08B19B0>\n",
      "device: <pyrealsense2.device: Intel RealSense D435I (S/N: 213622070282  FW: 5.15.0.2  on USB3.2)>\n",
      "depth_sensor: <pyrealsense2.sensor: \"Stereo Module\">\n",
      "depth_scale: 0.0010000000474974513\n",
      "streams: [<pyrealsense2.[video_]stream_profile: Depth(0) 1280x720 @ 30fps Z16>, <pyrealsense2.[video_]stream_profile: Color(0) 1280x720 @ 30fps BGR8>]\n"
     ]
    }
   ],
   "source": [
    "import pyrealsense2 as rs\n",
    "import numpy as np\n",
    "import cv2\n",
    "\n",
    "if __name__ == \"__main__\":\n",
    "    # Configure depth and color streams\n",
    "    pipeline = rs.pipeline()\n",
    "    config = rs.config()\n",
    "    print(config)\n",
    "    config.enable_stream(rs.stream.depth, 1280, 720, rs.format.z16, 30)\n",
    "    config.enable_stream(rs.stream.color, 1280, 720, rs.format.bgr8, 30)\n",
    "    # Start streaming\n",
    "#     pipeline.start(config)\n",
    "    pf = pipeline.start(config) \n",
    "    device = pf.get_device()\n",
    "    device.hardware_reset()\n",
    "    \n",
    "    print(f\"device: {pf.get_device()}\")\n",
    "    print(f\"depth_sensor: {pf.get_device().first_depth_sensor()}\")\n",
    "    print(f\"depth_scale: {pf.get_device().first_depth_sensor().get_depth_scale()}\")\n",
    "    print(f\"streams: {pf.get_streams()}\")\n",
    "\n",
    "    try:\n",
    "        while True:\n",
    "            # Wait for a coherent pair of frames: depth and color\n",
    "            frames = pipeline.wait_for_frames()\n",
    "            depth_frame = frames.get_depth_frame()\n",
    "            color_frame = frames.get_color_frame()\n",
    "            if not depth_frame or not color_frame:\n",
    "                continue\n",
    "            # Convert images to numpy arrays\n",
    "\n",
    "            depth_image = np.asanyarray(depth_frame.get_data())\n",
    "            color_image = np.asanyarray(color_frame.get_data())\n",
    "\n",
    "            # Apply colormap on depth image (image must be converted to 8-bit per pixel first)\n",
    "            depth_colormap = cv2.applyColorMap(cv2.convertScaleAbs(depth_image, alpha=0.03), cv2.COLORMAP_JET)\n",
    "            # Stack both images horizontally\n",
    "            images = np.hstack((color_image, depth_colormap))\n",
    "            # Show images\n",
    "            cv2.namedWindow('RealSense', cv2.WINDOW_AUTOSIZE)\n",
    "            cv2.imshow('RealSense', images)\n",
    "            key = cv2.waitKey(1)\n",
    "            # Press esc or 'q' to close the image window\n",
    "            if key & 0xFF == ord('q') or key == 27:\n",
    "                cv2.destroyAllWindows()\n",
    "                break\n",
    "    finally:\n",
    "        # Stop streaming\n",
    "        pipeline.stop()\n"
   ]
  },
  {
   "cell_type": "code",
   "execution_count": 14,
   "id": "359a9a2f",
   "metadata": {},
   "outputs": [
    {
     "data": {
      "text/plain": [
       "'06_27_15_24'"
      ]
     },
     "execution_count": 14,
     "metadata": {},
     "output_type": "execute_result"
    }
   ],
   "source": [
    "from datetime import datetime\n",
    "str(datetime.now())[5:7]+'_'+str(datetime.now())[8:10]+'_'+str(datetime.now())[11:13]+'_'+str(datetime.now())[14:16]"
   ]
  },
  {
   "cell_type": "code",
   "execution_count": 17,
   "id": "6b54ecc6",
   "metadata": {},
   "outputs": [
    {
     "name": "stdout",
     "output_type": "stream",
     "text": [
      "(720, 1280, 3)\n"
     ]
    }
   ],
   "source": [
    "import time\n",
    "import pyrealsense2 as rs\n",
    "import numpy as np\n",
    "import cv2\n",
    "import jkrc\n",
    "from HanglokJKRC import HagJkrc\n",
    "import logging\n",
    "import pandas as pd\n",
    "from camera import Camera\n",
    "import os\n",
    "from datetime import datetime\n",
    "\n",
    "fps, w, h = 30, 1280, 720\n",
    "cam = Camera(w, h, fps)\n",
    "color_image, depth_image, colorizer_depth = cam.get_frame()\n",
    "print(color_image.shape)"
   ]
  },
  {
   "cell_type": "code",
   "execution_count": 19,
   "id": "81c3b72d",
   "metadata": {},
   "outputs": [],
   "source": [
    "import pandas as pd\n",
    "df = pd.DataFrame({'timestep':[],'pos_0':[],\"pos_1\":[],'pos_2':[],\"pos_3\":[],'pos_4':[],\"pos_5\":[]})\n",
    "df.loc[0,'timestep'] = 0"
   ]
  },
  {
   "cell_type": "code",
   "execution_count": 20,
   "id": "35e937ad",
   "metadata": {},
   "outputs": [
    {
     "name": "stdout",
     "output_type": "stream",
     "text": [
      "<class 'pandas.core.frame.DataFrame'>\n",
      "Int64Index: 1 entries, 0 to 0\n",
      "Data columns (total 7 columns):\n",
      " #   Column    Non-Null Count  Dtype  \n",
      "---  ------    --------------  -----  \n",
      " 0   timestep  1 non-null      float64\n",
      " 1   pos_0     0 non-null      float64\n",
      " 2   pos_1     0 non-null      float64\n",
      " 3   pos_2     0 non-null      float64\n",
      " 4   pos_3     0 non-null      float64\n",
      " 5   pos_4     0 non-null      float64\n",
      " 6   pos_5     0 non-null      float64\n",
      "dtypes: float64(7)\n",
      "memory usage: 172.0 bytes\n"
     ]
    }
   ],
   "source": [
    "df.info()"
   ]
  },
  {
   "cell_type": "code",
   "execution_count": null,
   "id": "90aed151",
   "metadata": {},
   "outputs": [],
   "source": [
    "import time\n",
    "import pyrealsense2 as rs\n",
    "import numpy as np\n",
    "import cv2\n",
    "import jkrc\n",
    "from HanglokJKRC import HagJkrc\n",
    "import logging\n",
    "import pandas as pd\n",
    "from camera import Camera\n",
    "import os\n",
    "from datetime import datetime\n",
    "\n",
    "def record_pnt2df(df,pnt):\n",
    "    assert len(pnt)==6, \"Point format Wrong\"\n",
    "    # d = {}\n",
    "    n = len(df['timestep'].to_list())\n",
    "    print('n: ',n)\n",
    "    for i in range(6):\n",
    "        df.loc[n-1,'pos_'+str(i)] = pnt[i]\n",
    "        # d['pos_'+str(i)] = pnt[i]\n",
    "        # print(pnt[i])\n",
    "    # df.concat(d)\n",
    "\n",
    "\n",
    "def create_dir(dir):\n",
    "    if not os.path.exists(dir):\n",
    "        os.mkdir(dir)\n",
    "\n",
    "def main():\n",
    "    # Camera Format, please refer to camera document\n",
    "    fps, w, h = 30, 1280, 720\n",
    "    # step setting for taking images at different position\n",
    "    step = 10\n",
    "    step_length = 5\n",
    "    # current time\n",
    "    now = str(datetime.now())\n",
    "    current_time = now[5:7]+'_'+now[8:10]+'_'+now[11:13]+'_'+now[14:16]\n",
    "    # save path of images and position information\n",
    "    SAVE_DIR = f'C://Users//gzkxy//Desktop//zqh//saved//'\n",
    "    SAVE_DIR = os.path.join(SAVE_DIR,current_time)\n",
    "    create_dir(SAVE_DIR)\n",
    "\n",
    "    pipeline = rs.pipeline()\n",
    "    config = rs.config()\n",
    "    config.enable_stream(rs.stream.depth, 1280, 720, rs.format.z16, 30)\n",
    "    config.enable_stream(rs.stream.color, 1280, 720, rs.format.bgr8, 30)\n",
    "    pf = pipeline.start(config) \n",
    "    device = pf.get_device()\n",
    "    device.hardware_reset()\n",
    "\n",
    "    # Init Camera\n",
    "    \n",
    "\n",
    "    logger = logging.getLogger(\"my_logger\")\n",
    "    logger.setLevel(logging.DEBUG)\n",
    "\n",
    "    # 200 is left and 100 is right\n",
    "    arm  = HagJkrc(logger, \"192.168.15.200\")\n",
    "    arm.init_robot()\n",
    "    print(\"Succesfully ini robot\")\n",
    "\n",
    "    # Init a df to record time and position infomation\n",
    "    df = pd.DataFrame({'timestep':[],'pos_0':[],\"pos_1\":[],'pos_2':[],\"pos_3\":[],'pos_4':[],\"pos_5\":[]})\n",
    "    # df = pd.DataFrame({'pos_0':[],\"pos_1\":[],'pos_2':[],\"pos_3\":[],'pos_4':[],\"pos_5\":[]})\n",
    "    # Start Point\n",
    "    df.loc[0,'timestep'] = 0\n",
    "    start_pnt = arm.read_actual_tcp_point_all()\n",
    "    print(\"Robot init position {}\".format(start_pnt))\n",
    "    # Record Start Point\n",
    "    \n",
    "    record_pnt2df(df,start_pnt)\n",
    "    print('ok')\n",
    "\n",
    "    cam = Camera(w, h, fps)\n",
    "    print(\"Successfully init camera\")\n",
    "    color_image, depth_image, colorizer_depth = cam.get_frame()\n",
    "    \n",
    "\n",
    "    # images = np.hstack((color_image, depth_colormap))  \n",
    "    depth_colormap = cv2.applyColorMap(cv2.convertScaleAbs(depth_image, alpha=0.03), cv2.COLORMAP_JET)\n",
    "    \n",
    "    saved_img_name = os.path.join(SAVE_DIR,str(0)+'_color.png')\n",
    "    saved_dimg_name = os.path.join(SAVE_DIR,str(0)+'_depth.png')\n",
    "    saved_cdimg_name = os.path.join(SAVE_DIR,str(0)+'_cdepth.png')\n",
    "    # print(color_image.shape)\n",
    "    cv2.imwrite(saved_img_name,color_image)\n",
    "    cv2.imwrite(saved_dimg_name,depth_image)\n",
    "    cv2.imwrite(saved_cdimg_name,colorizer_depth)\n",
    "\n",
    "\n",
    "    # Move Jaka to different positions to record rbgd data\n",
    "    # 6 directions (forward/backward for xyz)\n",
    "    for i in range(6):\n",
    "        \n",
    "        axis = i//2 # 0 if for moving paralle to the windows, 1 is for moving vertical to the windows\n",
    "        direction = i%2 # check whether go forward or backward, odd for forward, even for backward\n",
    "        for s in range(step):\n",
    "            print(\"current axis : {}, current step: {}\".format(axis,step))\n",
    "            current_pnt = arm.read_actual_tcp_point_all()\n",
    "            n = len(df['timestep'].to_list())\n",
    "            df.loc[n,'timestep'] = n\n",
    "            record_pnt2df(df,current_pnt)\n",
    "\n",
    "            if direction:\n",
    "                current_pnt[axis] += step_length\n",
    "            else:\n",
    "                current_pnt[axis] -= step_length\n",
    "            arm.move_to_point(current_pnt, 10)\n",
    "            # sleep 1 second\n",
    "            time.sleep(1)\n",
    "            # get image from depth camera\n",
    "            color_image, depth_image, colorizer_depth = cam.get_frame()\n",
    "            saved_img_name = os.path.join(SAVE_DIR,str(n)+'_color.png')\n",
    "            saved_dimg_name = os.path.join(SAVE_DIR,str(n)+'_depth.png')\n",
    "            saved_cdimg_name = os.path.join(SAVE_DIR,str(n)+'_cdepth.png')\n",
    "            cv2.imwrite(saved_img_name,color_image)\n",
    "            cv2.imwrite(saved_dimg_name,depth_image)\n",
    "            cv2.imwrite(saved_cdimg_name,colorizer_depth)\n",
    "#             time.sleep(1)\n",
    "        # go back to init position for next direction moving\n",
    "        arm.move_to_point(start_pnt, 10)\n",
    "    cam.release()\n",
    "    df.to_csv(os.path.join(SAVE_DIR,'positions.csv'),index=False)\n",
    "if __name__ == '__main__':\n",
    "    main()\n",
    "\n",
    "    \n",
    "    "
   ]
  },
  {
   "cell_type": "code",
   "execution_count": null,
   "id": "43fea0b6",
   "metadata": {},
   "outputs": [],
   "source": []
  }
 ],
 "metadata": {
  "kernelspec": {
   "display_name": "Python 3 (ipykernel)",
   "language": "python",
   "name": "python3"
  },
  "language_info": {
   "codemirror_mode": {
    "name": "ipython",
    "version": 3
   },
   "file_extension": ".py",
   "mimetype": "text/x-python",
   "name": "python",
   "nbconvert_exporter": "python",
   "pygments_lexer": "ipython3",
   "version": "3.10.9"
  }
 },
 "nbformat": 4,
 "nbformat_minor": 5
}
